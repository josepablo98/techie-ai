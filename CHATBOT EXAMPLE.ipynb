{
 "cells": [
  {
   "cell_type": "code",
   "execution_count": 1,
   "metadata": {},
   "outputs": [
    {
     "name": "stdout",
     "output_type": "stream",
     "text": [
      "Datos y modelo cargados correctamente.\n"
     ]
    },
    {
     "name": "stderr",
     "output_type": "stream",
     "text": [
      "[nltk_data] Downloading package punkt to\n",
      "[nltk_data]     /home/josepablo98/nltk_data...\n",
      "[nltk_data]   Package punkt is already up-to-date!\n",
      "[nltk_data] Downloading package wordnet to\n",
      "[nltk_data]     /home/josepablo98/nltk_data...\n",
      "[nltk_data]   Package wordnet is already up-to-date!\n"
     ]
    }
   ],
   "source": [
    "import nltk\n",
    "from nltk.stem import WordNetLemmatizer\n",
    "import numpy as np\n",
    "import pickle\n",
    "from tensorflow.keras.models import load_model\n",
    "\n",
    "# Descargar recursos de NLTK si no lo has hecho antes\n",
    "nltk.download('punkt')\n",
    "nltk.download('wordnet')\n",
    "\n",
    "# Inicializar el lematizador\n",
    "lemmatizer = WordNetLemmatizer()\n",
    "\n",
    "# Cargar clases, palabras y modelo\n",
    "classes = pickle.load(open('classes.pkl', 'rb'))\n",
    "words = pickle.load(open('words.pkl', 'rb'))\n",
    "model = load_model('chatbot_embeddings.h5')\n",
    "\n",
    "print(\"Datos y modelo cargados correctamente.\")\n"
   ]
  },
  {
   "cell_type": "code",
   "execution_count": 3,
   "metadata": {},
   "outputs": [
    {
     "name": "stdout",
     "output_type": "stream",
     "text": [
      "glove.6B.200d.txt ya existe.\n",
      "glove.6B.200d.word2vec.txt ya existe.\n",
      "Cargando embeddings...\n",
      "Embeddings cargados correctamente.\n"
     ]
    }
   ],
   "source": [
    "import os\n",
    "from gensim.models import KeyedVectors\n",
    "from gensim.scripts.glove2word2vec import glove2word2vec\n",
    "\n",
    "# Archivos\n",
    "glove_file = 'glove.6B.200d.txt'\n",
    "word2vec_file = 'glove.6B.200d.word2vec.txt'\n",
    "url = 'https://drive.google.com/uc?id=1IRQMsvbPEy62Djob9FUkVzmO9DmC4rPa'\n",
    "\n",
    "# Descargar archivo GloVe si no existe\n",
    "if not os.path.exists(glove_file):\n",
    "    print(glove_file + \" no encontrado. Descargando desde Drive...\")\n",
    "    gdown.download(url, glove_file, quiet=False)\n",
    "else:\n",
    "    print(glove_file + \" ya existe.\")\n",
    "\n",
    "# Convertir GloVe a Word2Vec si no existe el archivo convertido\n",
    "if not os.path.exists(word2vec_file):\n",
    "    print(\"Convirtiendo \" + glove_file + \" a formato Word2Vec...\")\n",
    "    glove2word2vec(glove_file, word2vec_file)\n",
    "    print(\"Conversión completa.\")\n",
    "else:\n",
    "    print(word2vec_file + \" ya existe.\")\n",
    "\n",
    "# Cargar embeddings Word2Vec\n",
    "print(\"Cargando embeddings...\")\n",
    "word_vectors = KeyedVectors.load_word2vec_format(word2vec_file, binary=False)\n",
    "print(\"Embeddings cargados correctamente.\")\n"
   ]
  },
  {
   "cell_type": "code",
   "execution_count": 6,
   "metadata": {},
   "outputs": [
    {
     "name": "stdout",
     "output_type": "stream",
     "text": [
      "Intenciones cargadas correctamente.\n"
     ]
    }
   ],
   "source": [
    "import json\n",
    "\n",
    "# Cargar el archivo JSON con intenciones\n",
    "with open('intents.json') as f:\n",
    "    intents = json.load(f)\n",
    "\n",
    "print(\"Intenciones cargadas correctamente.\")"
   ]
  },
  {
   "cell_type": "code",
   "execution_count": 9,
   "metadata": {},
   "outputs": [],
   "source": [
    "import random\n",
    "\n",
    "def clean_up_sentence(sentence):\n",
    "    sentence_words = nltk.word_tokenize(sentence.lower())\n",
    "    sentence_words = [lemmatizer.lemmatize(word) for word in sentence_words]\n",
    "    return sentence_words\n",
    "\n",
    "def sentence_to_embedding(sentence):\n",
    "    \"\"\"Convierte una oración en un vector promedio de embeddings.\"\"\"\n",
    "    sentence_words = clean_up_sentence(sentence)\n",
    "    embedding_vectors = [word_vectors[word] for word in sentence_words if word in word_vectors]\n",
    "    if len(embedding_vectors) > 0:\n",
    "        return np.mean(embedding_vectors, axis=0)\n",
    "    else:\n",
    "        return np.zeros(word_vectors.vector_size)\n",
    "\n",
    "def predict_class(sentence):\n",
    "    bow = sentence_to_embedding(sentence)\n",
    "    res = model.predict(np.array([bow]))[0]\n",
    "    max_index = np.argmax(res)\n",
    "    return classes[max_index]\n",
    "\n",
    "def get_response(tag, intents_json):\n",
    "    list_of_intents = intents_json['intents']\n",
    "    for i in list_of_intents:\n",
    "        if i[\"tag\"] == tag:\n",
    "            return random.choice(i['responses'])\n",
    "    return \"Lo siento, no entiendo.\"\n"
   ]
  },
  {
   "cell_type": "code",
   "execution_count": null,
   "metadata": {},
   "outputs": [
    {
     "name": "stdout",
     "output_type": "stream",
     "text": [
      "Escribe 'salir' para salir del programa\n",
      "Un decorador en Python es una función que modifica el comportamiento de otra función. Se aplica usando la sintaxis '@decorador' antes de la definición de una función.\n",
      "Escribe 'salir' para salir del programa\n",
      "Python es fácil de aprender, tiene una sintaxis sencilla, es interpretado, de tipado dinámico, y cuenta con una gran comunidad y librerías.\n",
      "Escribe 'salir' para salir del programa\n",
      "Los módulos estándar en Python son librerías que vienen preinstaladas con Python. Algunos ejemplos son 'math' para operaciones matemáticas, 'datetime' para manejar fechas y horas, 'os' para interactuar con el sistema operativo, y 'sys' para acceder a parámetros de la línea de comandos.\n",
      "Escribe 'salir' para salir del programa\n",
      "El rendimiento en Python puede mejorarse utilizando técnicas como el uso de generadores, evitar el uso excesivo de bucles anidados, utilizar bibliotecas optimizadas como NumPy para operaciones numéricas, y hacer uso de perfiles de rendimiento para identificar cuellos de botella.\n",
      "Escribe 'salir' para salir del programa\n"
     ]
    }
   ],
   "source": [
    "while True:\n",
    "    print(\"Escribe 'salir' para salir del programa\")\n",
    "    message = input()\n",
    "    if message.lower() == 'salir':\n",
    "        break\n",
    "    tag = predict_class(message)\n",
    "    response = get_response(tag, intents)\n",
    "    print(response)\n"
   ]
  }
 ],
 "metadata": {
  "kernelspec": {
   "display_name": "Python 3 (ipykernel)",
   "language": "python",
   "name": "python3"
  },
  "language_info": {
   "codemirror_mode": {
    "name": "ipython",
    "version": 3
   },
   "file_extension": ".py",
   "mimetype": "text/x-python",
   "name": "python",
   "nbconvert_exporter": "python",
   "pygments_lexer": "ipython3",
   "version": "3.5.2"
  }
 },
 "nbformat": 4,
 "nbformat_minor": 2
}
